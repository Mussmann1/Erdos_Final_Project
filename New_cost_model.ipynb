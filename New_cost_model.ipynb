{
 "cells": [
  {
   "cell_type": "code",
   "execution_count": 25,
   "metadata": {},
   "outputs": [],
   "source": [
    "import pandas as pd\n",
    "import numpy as np\n",
    "import matplotlib.pyplot as plt"
   ]
  },
  {
   "cell_type": "code",
   "execution_count": 26,
   "metadata": {},
   "outputs": [],
   "source": [
    "#Acme Insurance Company sells auto insurance directly to consumers via Vertical Search websites. \n",
    "#On these websites, consumers who are already shopping for auto insurance enter some information about themselves and \n",
    "#then are shown ads from insurance companies. Each ad shown is called an \"impression\" and each record in this table \n",
    "#represents one ad impression.\n",
    "\n",
    "# These ads are shown based on an online auction where insurance companies bid to have their ad shown, \n",
    "# and the ads are shown in order based on the highest bid amount. The insurance companies only pay if \n",
    "# their ad is clicked on, but bidding higher will cause the ad to be shown higher in the ranking and is \n",
    "# more likely to be clicked on if it is in a higher position.\n",
    "\n",
    "# Acme currently bids $10 for all customers, but is able to set different bid prices for different types of customers.\n",
    "# For example, Acme could bid $10 for all customers with 1 vehicle and $12 for all customers with 2 vehicles. \n",
    "\n",
    "# Acme would like to come up with a bidding strategy which optimizes the cost per customer acquired while ensuring\n",
    "# that for every 10,000 ads shown they are expected to acquire at least 400 customers. How should Acme set prices by \n",
    "# customers segment?\n",
    "# The channel manager who buys advertising on this vertical search website would also like to know if in\n",
    "# the course of your analysis you come across any other interesting findings!\n"
   ]
  },
  {
   "cell_type": "code",
   "execution_count": 27,
   "metadata": {},
   "outputs": [
    {
     "name": "stderr",
     "output_type": "stream",
     "text": [
      "C:\\Users\\Dell\\Anaconda3\\lib\\site-packages\\ipykernel_launcher.py:2: SettingWithCopyWarning: \n",
      "A value is trying to be set on a copy of a slice from a DataFrame\n",
      "\n",
      "See the caveats in the documentation: http://pandas.pydata.org/pandas-docs/stable/indexing.html#indexing-view-versus-copy\n",
      "  \n",
      "C:\\Users\\Dell\\Anaconda3\\lib\\site-packages\\ipykernel_launcher.py:3: SettingWithCopyWarning: \n",
      "A value is trying to be set on a copy of a slice from a DataFrame\n",
      "\n",
      "See the caveats in the documentation: http://pandas.pydata.org/pandas-docs/stable/indexing.html#indexing-view-versus-copy\n",
      "  This is separate from the ipykernel package so we can avoid doing imports until\n",
      "C:\\Users\\Dell\\Anaconda3\\lib\\site-packages\\ipykernel_launcher.py:4: SettingWithCopyWarning: \n",
      "A value is trying to be set on a copy of a slice from a DataFrame\n",
      "\n",
      "See the caveats in the documentation: http://pandas.pydata.org/pandas-docs/stable/indexing.html#indexing-view-versus-copy\n",
      "  after removing the cwd from sys.path.\n",
      "C:\\Users\\Dell\\Anaconda3\\lib\\site-packages\\ipykernel_launcher.py:5: SettingWithCopyWarning: \n",
      "A value is trying to be set on a copy of a slice from a DataFrame\n",
      "\n",
      "See the caveats in the documentation: http://pandas.pydata.org/pandas-docs/stable/indexing.html#indexing-view-versus-copy\n",
      "  \"\"\"\n",
      "C:\\Users\\Dell\\Anaconda3\\lib\\site-packages\\ipykernel_launcher.py:6: SettingWithCopyWarning: \n",
      "A value is trying to be set on a copy of a slice from a DataFrame\n",
      "\n",
      "See the caveats in the documentation: http://pandas.pydata.org/pandas-docs/stable/indexing.html#indexing-view-versus-copy\n",
      "  \n",
      "C:\\Users\\Dell\\Anaconda3\\lib\\site-packages\\ipykernel_launcher.py:7: SettingWithCopyWarning: \n",
      "A value is trying to be set on a copy of a slice from a DataFrame\n",
      "\n",
      "See the caveats in the documentation: http://pandas.pydata.org/pandas-docs/stable/indexing.html#indexing-view-versus-copy\n",
      "  import sys\n",
      "C:\\Users\\Dell\\Anaconda3\\lib\\site-packages\\ipykernel_launcher.py:9: SettingWithCopyWarning: \n",
      "A value is trying to be set on a copy of a slice from a DataFrame\n",
      "\n",
      "See the caveats in the documentation: http://pandas.pydata.org/pandas-docs/stable/indexing.html#indexing-view-versus-copy\n",
      "  if __name__ == '__main__':\n"
     ]
    }
   ],
   "source": [
    "Acme=pd.read_csv(\"Acme.csv\")\n",
    "Acme.policies_sold[Acme['policies_sold']== \" -   \"]=0\n",
    "Acme.policies_sold[Acme['policies_sold']== \" 1 \"]=1\n",
    "Acme.marital_status[Acme['marital_status']== \"S\"]=0\n",
    "Acme.marital_status[Acme['marital_status']== \"M\"]=1\n",
    "Acme.currently_insured[Acme['currently_insured']== \"N\"]=0\n",
    "Acme.currently_insured[Acme['currently_insured']== \"Y\"]=1\n",
    "Acme['clicked']=0\n",
    "Acme.clicked[Acme[' clicked_ad ']== \" 1 \"]=1\n",
    "Acme=Acme.drop(columns=[' clicked_ad ']);\n",
    "# Acme['policy_sold']=0\n",
    "# Acme.policy_sold[Acme['policies_sold']== \" 1 \"]=1\n",
    "# Acme=Acme.drop(columns=['policies_sold']);\n"
   ]
  },
  {
   "cell_type": "code",
   "execution_count": 28,
   "metadata": {},
   "outputs": [],
   "source": [
    "x=np.array([0,1])\n",
    "lst=np.array(np.meshgrid(x, x, x, x)).T.reshape(-1,4)\n",
    "lst[:,1:3]=lst[:,1:3]+1\n",
    "Perc_by_rank=np.zeros([16,5,5])\n",
    "\n",
    "for j in range(16):\n",
    "    for i in range(5):\n",
    "        df=Acme[(Acme.iloc[:,2]==lst[j,0])&(Acme.iloc[:,3]==lst[j,1])&(Acme.iloc[:,4]==lst[j,2])&(Acme.iloc[:,5]==lst[j,3])]\n",
    "        Perc_by_rank[j,i,4]=len(df)\n",
    "        a=len(df[df.iloc[:,6]==i+1])\n",
    "        Perc_by_rank[j,i,3]=a\n",
    "        b=len(df[(df.iloc[:,6]==i+1)&(df.clicked==1)])\n",
    "        c=len(df[(df.iloc[:,6]==i+1)&(df.policies_sold==1)])\n",
    "        if b==0 & a==0:\n",
    "            Perc_by_rank[j,i,0:3]=[0,0,0]\n",
    "        else:\n",
    "            if b==0:\n",
    "                Perc_by_rank[j,i,0:3]=[c/a,b/a,0]\n",
    "            else:\n",
    "                Perc_by_rank[j,i,0:3]=[c/a,b/a,c/b]"
   ]
  },
  {
   "cell_type": "code",
   "execution_count": 29,
   "metadata": {},
   "outputs": [
    {
     "name": "stdout",
     "output_type": "stream",
     "text": [
      "[ 816. 1181. 1246.  868.] 1684.0 2427.0 0.6909398814563928 0.6966292134831461 0.6938607334157396\n"
     ]
    }
   ],
   "source": [
    "#this is scratch work to find the pdf\n",
    "sums=np.zeros(4)\n",
    "for j in range(15):\n",
    "    if Perc_by_rank[j,0,3]==0:\n",
    "        if Perc_by_rank[j,1,3]>0:\n",
    "            for i in range(4):\n",
    "                sums[i]=sums[i]+Perc_by_rank[j,i+1,3]\n",
    "    elif Perc_by_rank[j,3,3]>0:\n",
    "        for i in range(4):\n",
    "            sums[i]=sums[i]+Perc_by_rank[j,i,3]       \n",
    "    \n",
    "print(sums, sums[0]+sums[3],sums[1]+sums[2],sums[0]/sums[1],sums[3]/sums[2],(sums[0]+sums[3])/(sums[1]+sums[2]))"
   ]
  },
  {
   "cell_type": "code",
   "execution_count": 30,
   "metadata": {},
   "outputs": [
    {
     "name": "stdout",
     "output_type": "stream",
     "text": [
      "[2.69230769 4.51351351 2.58974359 4.5483871  1.50439367 3.47107438\n",
      " 2.53151618 3.53436807 2.52815013 4.50124193 2.50953678 4.50729572\n",
      " 1.48932677 3.47597254 2.6043771  3.5913242 ]\n"
     ]
    }
   ],
   "source": [
    "# a center is the mean if there are 4 entries, and a modified mean to accound for no 6 or 0 position for 3 entries\n",
    "centers=np.zeros(16)\n",
    "for j in range(16):\n",
    "    s=0\n",
    "    if (Perc_by_rank[j,1,3]==0):\n",
    "        s=4*sum(Perc_by_rank[j,2:4,3])+5*Perc_by_rank[j,4,3]\n",
    "    elif (Perc_by_rank[j,3,3]==0):\n",
    "        s=2*sum(Perc_by_rank[j,1:3,3])+Perc_by_rank[j,0,3]\n",
    "    else:\n",
    "        for i in range(5):\n",
    "            s=s+Perc_by_rank[j,i,3]*(i+1)\n",
    "    centers[j]=s/sum(Perc_by_rank[j,:,3])\n",
    "print(centers)"
   ]
  },
  {
   "cell_type": "code",
   "execution_count": 31,
   "metadata": {},
   "outputs": [
    {
     "name": "stdout",
     "output_type": "stream",
     "text": [
      "[2.69230769 4.32432432 2.58974359 4.3655914  1.7029877  3.47107438\n",
      " 2.53151618 3.53436807 2.52815013 4.31743666 2.50953678 4.31031128\n",
      " 1.71428571 3.47597254 2.6043771  3.5913242 ]\n"
     ]
    }
   ],
   "source": [
    "means=np.zeros(16)\n",
    "for j in range(16):\n",
    "    s=0\n",
    "    for i in range(5):\n",
    "        s=s+Perc_by_rank[j,i,3]*(i+1)\n",
    "    means[j]=s/sum(Perc_by_rank[j,:,3])\n",
    "print(means)"
   ]
  },
  {
   "cell_type": "code",
   "execution_count": 32,
   "metadata": {},
   "outputs": [],
   "source": [
    "from scipy.integrate import quad\n"
   ]
  },
  {
   "cell_type": "code",
   "execution_count": 33,
   "metadata": {},
   "outputs": [],
   "source": [
    "#this is my grid optimization code for r\n",
    "\n",
    "# err_mat=np.zeros(100)\n",
    "# r_mat=np.linspace(1.82,1.84,100)\n",
    "# for k in range(100):\n",
    "#     r=r_mat[k]\n",
    "#     pdf = lambda x,mu : ((r**4 - (x-mu)**4)**.25)/6.141436961093065\n",
    "#     def prob (a,b,mu):\n",
    "#         if (b < mu-r) or (a>mu+r):\n",
    "#             ans=0\n",
    "#         else:\n",
    "#             ans=quad(pdf,np.max([a,mu-r]),np.min([b,mu+r]), args=(mu,))[0]\n",
    "#         return ans\n",
    "\n",
    "#     n_approx_prob_res=np.zeros([16,5])\n",
    "\n",
    "#     for j in range(16):\n",
    "#         for i in range(5):\n",
    "#             if i==0:\n",
    "#                 n_approx_prob_res[j,i]=Perc_by_rank[j,i,3]/Perc_by_rank[j,0,4]-prob(-2,i+1.5,centers[j])\n",
    "#             elif i==4:\n",
    "#                 n_approx_prob_res[j,i]=Perc_by_rank[j,i,3]/Perc_by_rank[j,0,4]-prob(i+.5,7,centers[j])\n",
    "#             else:\n",
    "#                 n_approx_prob_res[j,i]=Perc_by_rank[j,i,3]/Perc_by_rank[j,0,4]-prob(i+.5,i+1.5,centers[j])\n",
    "#     err_mat[k]=np.linalg.norm(n_approx_prob_res)/20"
   ]
  },
  {
   "cell_type": "code",
   "execution_count": 34,
   "metadata": {},
   "outputs": [
    {
     "data": {
      "text/plain": [
       "0.013682558395717645"
      ]
     },
     "execution_count": 34,
     "metadata": {},
     "output_type": "execute_result"
    }
   ],
   "source": [
    "# here I find the probability eerror\n",
    "\n",
    "# r=r_mat[np.argmin(err_mat)]\n",
    "r=1.8292929292929294\n",
    "\n",
    "pdf = lambda x,mu : ((r**4 - (x-mu)**4)**.25)/6.141436961093065\n",
    "def r4_prob (a,b,mu):\n",
    "    if (b < mu-r) or (a>mu+r):\n",
    "        ans=0\n",
    "    else:\n",
    "        ans=quad(pdf,np.max([a,mu-r]),np.min([b,mu+r]), args=(mu,))[0]\n",
    "    return ans\n",
    "\n",
    "n_approx_prob_res=np.zeros([16,5])\n",
    "\n",
    "for j in range(16):\n",
    "    for i in range(5):\n",
    "        if i==0:\n",
    "            n_approx_prob_res[j,i]=Perc_by_rank[j,i,3]/Perc_by_rank[j,0,4]-r4_prob(-2,i+1.5,centers[j])\n",
    "        elif i==4:\n",
    "            n_approx_prob_res[j,i]=Perc_by_rank[j,i,3]/Perc_by_rank[j,0,4]-r4_prob(i+.5,7,centers[j])\n",
    "        else:\n",
    "            n_approx_prob_res[j,i]=Perc_by_rank[j,i,3]/Perc_by_rank[j,0,4]-r4_prob(i+.5,i+1.5,centers[j])\n",
    "np.linalg.norm(n_approx_prob_res)/20"
   ]
  },
  {
   "cell_type": "code",
   "execution_count": 35,
   "metadata": {},
   "outputs": [
    {
     "data": {
      "text/plain": [
       "4.54210905431246"
      ]
     },
     "execution_count": 35,
     "metadata": {},
     "output_type": "execute_result"
    }
   ],
   "source": [
    "# here I find the numerical error\n",
    "\n",
    "n_approx=np.zeros([16,5])\n",
    "for j in range(16):\n",
    "    for i in range(5):\n",
    "        if i==0:\n",
    "            n_approx[j,i]=Perc_by_rank[j,0,4]*r4_prob(-2,i+1.5,centers[j])\n",
    "        elif i==4:\n",
    "            n_approx[j,i]=Perc_by_rank[j,0,4]*r4_prob(i+.5,7,centers[j])\n",
    "        else:\n",
    "            n_approx[j,i]=Perc_by_rank[j,0,4]*r4_prob(i+.5,i+1.5,centers[j])\n",
    "res=n_approx-Perc_by_rank[:,:,3]\n",
    "np.linalg.norm(res)/20"
   ]
  },
  {
   "cell_type": "code",
   "execution_count": 36,
   "metadata": {},
   "outputs": [
    {
     "data": {
      "text/plain": [
       "49.2125512345728"
      ]
     },
     "execution_count": 36,
     "metadata": {},
     "output_type": "execute_result"
    }
   ],
   "source": [
    "np.max(res.reshape(-1,1))"
   ]
  },
  {
   "cell_type": "code",
   "execution_count": 179,
   "metadata": {},
   "outputs": [
    {
     "data": {
      "text/plain": [
       "0.0148048534486318"
      ]
     },
     "execution_count": 179,
     "metadata": {},
     "output_type": "execute_result"
    }
   ],
   "source": [
    "# here I find the probability eerror of step pdf\n",
    "\n",
    "# r=r_mat[np.argmin(err_mat)]\n",
    "# r=1.8292929292929294\n",
    "\n",
    "pdf2 = lambda x,mu : .2*(abs(x-mu)<2)+.1*(abs(x-mu)<1)\n",
    "def step_prob (a,b,mu):\n",
    "    if mu>b:\n",
    "        ans=(min(abs(mu-a),2)-2)*.2+(min(abs(mu-a),1)-1)*.1-(min(abs(mu-b),2)-2)*.2-(min(abs(mu-b),1)-1)*.1\n",
    "    elif mu<a:\n",
    "        ans=-(min(abs(mu-a),2)-2)*.2-(min(abs(mu-a),1)-1)*.1+(min(abs(mu-b),2)-2)*.2+(min(abs(mu-b),1)-1)*.1\n",
    "    elif a-b==1:\n",
    "        ans=.3\n",
    "    else:\n",
    "        if (b < mu-2) or (a>mu+2):\n",
    "            ans=0\n",
    "        else:\n",
    "            ans=quad(pdf2,np.max([a,mu-2]),np.min([b,mu+2]), args=(mu,))[0]\n",
    "    return ans\n",
    "\n",
    "n_approx_prob_res=np.zeros([16,5])\n",
    "\n",
    "for j in range(16):\n",
    "    for i in range(5):\n",
    "        if i==0:\n",
    "            n_approx_prob_res[j,i]=Perc_by_rank[j,i,3]/Perc_by_rank[j,0,4]-step_prob(-2,i+1.5,centers[j])\n",
    "        elif i==4:\n",
    "            n_approx_prob_res[j,i]=Perc_by_rank[j,i,3]/Perc_by_rank[j,0,4]-step_prob(i+.5,7,centers[j])\n",
    "        else:\n",
    "            n_approx_prob_res[j,i]=Perc_by_rank[j,i,3]/Perc_by_rank[j,0,4]-step_prob(i+.5,i+1.5,centers[j])\n",
    "np.linalg.norm(n_approx_prob_res)/20"
   ]
  },
  {
   "cell_type": "code",
   "execution_count": 169,
   "metadata": {},
   "outputs": [
    {
     "data": {
      "text/plain": [
       "1.3877787807814457e-17"
      ]
     },
     "execution_count": 169,
     "metadata": {},
     "output_type": "execute_result"
    }
   ],
   "source": [
    "\n",
    "step_prob(.5,1.5,1)"
   ]
  },
  {
   "cell_type": "code",
   "execution_count": 87,
   "metadata": {},
   "outputs": [
    {
     "data": {
      "text/plain": [
       "array([2.36363636, 4.53061224, 2.30163934, 4.61157025, 1.80158311,\n",
       "       2.97135061, 2.26786864, 3.03476636, 2.26594668, 4.50279607,\n",
       "       2.25537726, 4.51647547, 1.79616582, 2.97616345, 2.31028522,\n",
       "       3.09419152])"
      ]
     },
     "execution_count": 87,
     "metadata": {},
     "output_type": "execute_result"
    }
   ],
   "source": [
    "dollar_change"
   ]
  },
  {
   "cell_type": "code",
   "execution_count": null,
   "metadata": {},
   "outputs": [],
   "source": []
  },
  {
   "cell_type": "code",
   "execution_count": null,
   "metadata": {},
   "outputs": [],
   "source": []
  },
  {
   "cell_type": "code",
   "execution_count": null,
   "metadata": {},
   "outputs": [],
   "source": []
  },
  {
   "cell_type": "code",
   "execution_count": 39,
   "metadata": {},
   "outputs": [],
   "source": [
    "center=pd.DataFrame({'currently_insured' :lst[:,0],'number_of_vehicles':lst[:,1],'number_of_drivers':lst[:,2],\n",
    "                    'marital_status':lst[:,3], 'centers':centers})\n",
    "center.to_csv('center.csv', index=False)"
   ]
  },
  {
   "cell_type": "code",
   "execution_count": 40,
   "metadata": {},
   "outputs": [],
   "source": [
    "\n",
    "search_out=np.array([2,3,4,2,1,0])\n",
    "approx_shift=np.zeros([2,5])\n",
    "approx_shift[0,:]=range(5)\n",
    "approx_shift[1,:]=np.array([.25,.01,0,-.09,-.02])\n",
    "Pred_by_rank=np.zeros([16,5,5])"
   ]
  },
  {
   "cell_type": "code",
   "execution_count": 347,
   "metadata": {},
   "outputs": [],
   "source": [
    "class Tom_method:\n",
    "    def __init__(self,max_delta_mean,pred_by_rank,prob,centers):\n",
    "        self.max=max_delta_mean\n",
    "        self.dol=9/(6.5-centers)\n",
    "        self.pred=pred_by_rank\n",
    "        self.prob=prob\n",
    "        self.centers=centers\n",
    "        self.new_centers=centers\n",
    "        self.min=6.5\n",
    "        \n",
    "        \n",
    "    def shift(self,shift):\n",
    "        if self.pred.shape[0] != len(shift):\n",
    "            print('shift vector needs to be length '+str(len(self.pred)))\n",
    "            return \n",
    "        for i in range(len(shift)):\n",
    "            if abs(shift[i])>self.max:\n",
    "                print('shift in index '+str(i)+' exceeds max shift')\n",
    "                return \n",
    "            if self.centers[i]+shift[i]>6.5:\n",
    "                print('shift in index '+str(i)+ 'exceeds max')\n",
    "                return \n",
    "        cost=10*np.ones(len(shift))\n",
    "        self.new_centers=self.centers+shift\n",
    "        self.new_cost=cost-self.dol*shift\n",
    "        self.sales=np.zeros(self.pred.shape[0])\n",
    "        self.total_cost=np.zeros(self.pred.shape[0])\n",
    "        for j in range(self.pred.shape[0]):\n",
    "            for i in range(self.pred.shape[1]):\n",
    "                if i==0:\n",
    "                    prob_rank_i=self.prob(-5,i+1.5,self.new_centers[j])\n",
    "                elif i==4:\n",
    "                    prob_rank_i=self.prob(i+.5,10,self.new_centers[j])\n",
    "                else:\n",
    "                    prob_rank_i=self.prob(i+.5,i+1.5,self.new_centers[j])\n",
    "                self.sales[j]=self.sales[j]+prob_rank_i*self.pred[j,i,0]*self.pred[j,i,4]\n",
    "                self.total_cost[j]=self.total_cost[j]+prob_rank_i*self.pred[j,i,1]*self.pred[j,i,4]*self.new_cost[j]\n",
    "        return sum(self.total_cost),sum(self.sales),sum(self.total_cost)/sum(self.sales)\n",
    "    \n",
    "    def shift_one(self,shift,n):\n",
    "        temp_center=self.new_centers[n]+shift\n",
    "        temp_new_cost=self.new_cost[n]-self.dol[n]*shift\n",
    "        temp_cost=0\n",
    "        temp_sales=0\n",
    "        for i in range(self.pred.shape[1]):\n",
    "            if i==0:\n",
    "                prob_rank_i=self.prob(-5,i+1.5,temp_center)\n",
    "            elif i==4:\n",
    "                prob_rank_i=self.prob(i+.5,10,temp_center)\n",
    "            else:\n",
    "                prob_rank_i=self.prob(i+.5,i+1.5,temp_center)\n",
    "            temp_sales=temp_sales+prob_rank_i*self.pred[n,i,0]*self.pred[n,i,4]\n",
    "            temp_cost=temp_cost+prob_rank_i*self.pred[n,i,1]*self.pred[n,i,4]*temp_new_cost\n",
    "        return temp_cost,temp_sales\n",
    "    \n",
    "    def opt(self,target,intial_shift):\n",
    "        current_shift=intial_shift\n",
    "        [sum_cost,sum_sales,c]=self.shift(current_shift)\n",
    "        if sum_sales>target: #545 is old number 13740 is old cost\n",
    "            print(\"the optimal shift is\" +str(self.max*np.ones(self.pred.shape[0])))\n",
    "            return\n",
    "        while sum_cost<target:\n",
    "            if sum_cost<target-20:\n",
    "                step_size=0.1\n",
    "            else:\n",
    "                step_size=0.01\n",
    "            d_sales_d_cost=np.zeros([self.pred.shape[0],3])\n",
    "            for j in range (self.pred.shape[0]):\n",
    "                for i in range(3):\n",
    "                    if (abs(current_shift[j]-step_size*2**(i))>self.max):\n",
    "                        d_sales_d_cost[j,i]=np.inf\n",
    "                    else:\n",
    "                        delta_mean=step_size*2**i\n",
    "                        [temp_cost,temp_sales]=self.shift_one(-delta_mean,j)\n",
    "                        if (self.total_cost[j]==0) or (temp_cost==0):\n",
    "                            d_sales_d_cost[j,i]=np.inf\n",
    "                        else:\n",
    "                            d_sales_d_cost[j,i]=temp_cost/temp_sales\n",
    "#                             cost_diff=temp_cost-self.total_cost[j]\n",
    "#                             sales_diff=temp_sales-self.sales[j]\n",
    "#                             d_sales_d_cost[j,i]=((sum_cost+cost_diff)/(sum_sales+sales_diff)-sum_cost/sum_sales)/delta_mean\n",
    "            pos=np.argmin(d_sales_d_cost.reshape(-1,1))\n",
    "            pos1=int(np.floor(pos/3))     \n",
    "            current_shift[pos1]=current_shift[pos1]-step_size*2**(pos%3)\n",
    "            [sum_cost,sum_sales,c]=self.shift(current_shift)\n",
    "        return sum_sales, current_shift\n",
    "\n",
    "    def plot(self,n):\n",
    "        plt.figure(figsize=(7,7))\n",
    "        Prob_vec=np.zeros([3,5])\n",
    "        Prob_vec[0,:]=self.pred[n,:,3]/self.pred[n,:,4]\n",
    "        for i in range(5):\n",
    "            if i==0:\n",
    "                Prob_vec[1:3,i]=[self.prob(-5,i+1.5,self.centers[n]),self.prob(-5,i+1.5,self.new_centers[n])]\n",
    "            elif i==4:\n",
    "                Prob_vec[1:3,i]=[self.prob(i+.5,10,self.centers[n]),self.prob(i+.5,10,self.new_centers[n])]\n",
    "            else:\n",
    "                Prob_vec[1:3,i]=[self.prob(i+.5,i+1.5,self.centers[n]),self.prob(i+.5,i+1.5,self.new_centers[n])]\n",
    "        plt.bar(range(1,6),Prob_vec[0,:],width=.3,label='data')\n",
    "#         plt.plot(range(1,6),Prob_vec[1,:],label='old_pdf',color='r')\n",
    "#         plt.plot(range(1,6),Prob_vec[2,:],label='new_pdf',color='g')\n",
    "#         plt.bar(range(1,6),Prob_vec[2,:],width=.3,label='historgram')\n",
    "        plt.legend(fontsize=10)\n",
    "        plt.ylim(0,1)\n",
    "        plt.title(\"i=\" + str(lst[n,0]) + \", v=\" + str(lst[n,1]) + \", d=\"+ str(lst[n,2]) + \n",
    "              \", m=\"+ str(lst[n,3]) + \", n=\"+ str(self.pred[n,0,4])+ \", sales/click=\"+ str(round(self.pred[n,0,2],3)))\n",
    "#         Labels=[]\n",
    "#         for i in range(5):\n",
    "#             Labels.append('click/n= '+str(round(self.pred[5,i,1],2)))\n",
    "#         plt.xticks(range(1,6), Labels)\n",
    "        plt.show\n",
    "        print(\"with mean shift of \" +str((10-self.new_cost[n])/self.dol))\n",
    "        print(\"expected policies sold for this category with shifted mean =\" +str(self.sales[n]))\n",
    "        print(\"expected cost per sale with shifted mean =\" +str(self.total_cost[n]/self.sales[n]))\n",
    "\n",
    "    \n",
    "    def bid(self,n):\n",
    "        return self.new_cost[n]\n",
    "    \n",
    "    def plot_all(self):\n",
    "        plt.figure(figsize=(14,14))\n",
    "        for j in range(16):\n",
    "            plt.subplot(4,4,j+1)\n",
    "            Prob_vec[0,:]=self.pred[j,:,3]/self.pred[j,:,4]\n",
    "            for i in range(5):\n",
    "                if i==0:\n",
    "                    Prob_vec[1:3,i]=[self.prob(-5,i+1.5,self.centers[j]),self.prob(-5,i+1.5,self.new_centers[j])]\n",
    "                elif i==4:\n",
    "                    Prob_vec[1:3,i]=[self.prob(i+.5,10,self.centers[j]),self.prob(i+.5,10,self.new_centers[j])]\n",
    "                else:\n",
    "                    Prob_vec[1:3,i]=[self.prob(i+.5,i+1.5,self.centers[j]),self.prob(i+.5,i+1.5,self.new_centers[j])]\n",
    "            plt.bar(range(1,6),Prob_vec[0,:],width=.3,label='data')\n",
    "            plt.plot(range(1,6),Prob_vec[1,:],label='old_pdf',color='r')\n",
    "            plt.plot(range(1,6),Prob_vec[2,:],label='new_pdf',color='g')\n",
    "            plt.legend(fontsize=10)\n",
    "#             Labels=[]\n",
    "#             for i in range(5):\n",
    "#                 Labels.append('click/n= '+str(round(self.pred[5,i,1],2)))\n",
    "#             plt.xticks(range(1,6), Labels)\n",
    "#             \",n:\"+ str(int(Perc_by_rank[j,0,4]))+\n",
    "            plt.title(\"i:\" + str(lst[j,0]) + \",v:\" + str(lst[j,1]) + \",d:\"+ str(lst[j,2]) +\n",
    "                      \",m:\"+ str(lst[j,3]) + \n",
    "                      \",s/$:\"+ str(round(self.total_cost[j]/self.sales[j],2))+\n",
    "                     \",sa:\"+ str(round(self.sales[j],2))+\n",
    "                     \",sh:\"+ str(round((10-self.new_cost[j])/self.dol[j],2)),fontsize=8)\n",
    "        plt.show()\n"
   ]
  },
  {
   "cell_type": "code",
   "execution_count": 348,
   "metadata": {},
   "outputs": [],
   "source": [
    "Tom=Tom_method(6,Pred_by_rank,step_prob,centers)"
   ]
  },
  {
   "cell_type": "code",
   "execution_count": 306,
   "metadata": {},
   "outputs": [
    {
     "data": {
      "text/plain": [
       "array([3.70769231, 1.88648649, 3.81025641, 1.8516129 , 4.89560633,\n",
       "       2.92892562, 3.86848382, 2.86563193, 3.87184987, 1.89875807,\n",
       "       3.89046322, 1.89270428, 4.91067323, 2.92402746, 3.7956229 ,\n",
       "       2.8086758 ])"
      ]
     },
     "execution_count": 306,
     "metadata": {},
     "output_type": "execute_result"
    }
   ],
   "source": [
    "shift_to_min=6.4-centers\n",
    "shift_to_min\n"
   ]
  },
  {
   "cell_type": "code",
   "execution_count": 276,
   "metadata": {},
   "outputs": [
    {
     "data": {
      "text/plain": [
       "(273.79499127910134, 76.82788014544812, 3.5637452284347986)"
      ]
     },
     "execution_count": 276,
     "metadata": {},
     "output_type": "execute_result"
    }
   ],
   "source": [
    "Tom.shift(shift_to_min)"
   ]
  },
  {
   "cell_type": "code",
   "execution_count": 79,
   "metadata": {},
   "outputs": [
    {
     "name": "stdout",
     "output_type": "stream",
     "text": [
      "31.47124581232822\n",
      "1228.3937881586176\n",
      "86.67483277890481\n",
      "1605.454288972896\n"
     ]
    }
   ],
   "source": [
    "Tom.shift(0*np.ones(16))\n",
    "print(Tom.sales[6])\n",
    "print(Tom.total_cost[6])\n",
    "print(Tom.sales[8])\n",
    "print(Tom.total_cost[8])"
   ]
  },
  {
   "cell_type": "code",
   "execution_count": 349,
   "metadata": {},
   "outputs": [
    {
     "name": "stdout",
     "output_type": "stream",
     "text": [
      "with mean shift of [1.284329   0.67003896 1.31892372 0.65827615 1.68501064 1.02165214\n",
      " 1.33856374 1.00030327 1.3396991  0.67417815 1.34597735 0.67213621\n",
      " 1.69009269 1.02       1.31398785 0.98109206]\n",
      "expected policies sold for this category with shifted mean =7.017484623211763\n",
      "expected cost per sale with shifted mean =23.794737018273572\n"
     ]
    },
    {
     "data": {
      "image/png": "[encoded data removed]",
      "text/plain": [
       "<Figure size 504x504 with 1 Axes>"
      ]
     },
     "metadata": {
      "needs_background": "light"
     },
     "output_type": "display_data"
    }
   ],
   "source": [
    "n=13\n",
    "a=np.zeros(16)\n",
    "a[n]=1.02\n",
    "Tom.shift(a)\n",
    "Tom.plot(n)\n"
   ]
  },
  {
   "cell_type": "code",
   "execution_count": 277,
   "metadata": {},
   "outputs": [
    {
     "data": {
      "text/plain": [
       "(400.0200574805663,\n",
       " array([-0.37230769,  0.80648649, -1.44974359,  0.9916129 ,  0.07560633,\n",
       "         0.92892562,  2.25848382,  1.81563193, -0.12815013,  0.20875807,\n",
       "         0.75046322,  1.00270428,  0.88067323,  1.48402746,  2.5556229 ,\n",
       "         2.0286758 ]))"
      ]
     },
     "execution_count": 277,
     "metadata": {},
     "output_type": "execute_result"
    }
   ],
   "source": [
    "\n",
    "Tom.opt(400,shift_to_min)"
   ]
  },
  {
   "cell_type": "code",
   "execution_count": 301,
   "metadata": {},
   "outputs": [
    {
     "data": {
      "text/plain": [
       "(7620.4659004092555, 400.02005716155077, 19.050209518198432)"
      ]
     },
     "execution_count": 301,
     "metadata": {},
     "output_type": "execute_result"
    }
   ],
   "source": [
    "#this is shift from all \n",
    "Tom.shift( np. array([-0.37230769,  0.80648649, -1.44974359,  0.9916129 ,  0.07560633,\n",
    "         0.92892562,  2.25848382,  1.81563193, -0.12815013,  0.20875807,\n",
    "         0.75046322,  1.00270428,  0.88067323,  1.48402746,  2.5556229 ,\n",
    "         2.0286758 ]))"
   ]
  },
  {
   "cell_type": "code",
   "execution_count": 302,
   "metadata": {},
   "outputs": [
    {
     "data": {
      "text/plain": [
       "(545.0128538324736,\n",
       " array([-1.14230769,  0.57648649, -2.40974359,  0.7916129 , -0.82439367,\n",
       "         0.51892562,  1.89848382,  1.56563193, -0.87815013, -0.13124193,\n",
       "         0.15046322,  0.80270428,  0.10067323,  1.18402746,  2.2656229 ,\n",
       "         1.8286758 ]))"
      ]
     },
     "execution_count": 302,
     "metadata": {},
     "output_type": "execute_result"
    }
   ],
   "source": [
    "Tom.opt(545,np.array([-0.37230769,  0.80648649, -1.44974359,  0.9916129 ,  0.07560633,\n",
    "         0.92892562,  2.25848382,  1.81563193, -0.12815013,  0.20875807,\n",
    "         0.75046322,  1.00270428,  0.88067323,  1.48402746,  2.5556229 ,\n",
    "         2.0286758 ]))"
   ]
  },
  {
   "cell_type": "code",
   "execution_count": 303,
   "metadata": {},
   "outputs": [
    {
     "data": {
      "text/plain": [
       "(12100.635123715418, 545.0128538324735, 22.202476581286138)"
      ]
     },
     "execution_count": 303,
     "metadata": {},
     "output_type": "execute_result"
    }
   ],
   "source": [
    "#this is shift from all +1.95\n",
    "Tom.shift( np.array([-1.14230769,  0.57648649, -2.40974359,  0.7916129 , -0.82439367,\n",
    "         0.51892562,  1.89848382,  1.56563193, -0.87815013, -0.13124193,\n",
    "         0.15046322,  0.80270428,  0.10067323,  1.18402746,  2.2656229 ,\n",
    "         1.8286758 ]))"
   ]
  },
  {
   "cell_type": "code",
   "execution_count": 307,
   "metadata": {},
   "outputs": [
    {
     "data": {
      "text/plain": [
       "(591.914758657117,\n",
       " array([-1.44230769,  0.57648649, -2.70974359,  0.7916129 , -1.12439367,\n",
       "         0.41892562,  1.79848382,  1.46563193, -1.17815013, -0.23124193,\n",
       "        -0.04953678,  0.80270428, -0.19932677,  1.08402746,  2.1656229 ,\n",
       "         1.8286758 ]))"
      ]
     },
     "execution_count": 307,
     "metadata": {},
     "output_type": "execute_result"
    }
   ],
   "source": [
    "#this is shift from all +1.95\n",
    "Tom.opt( 13740,np.array([-1.14230769,  0.57648649, -2.40974359,  0.7916129 , -0.82439367,\n",
    "         0.51892562,  1.89848382,  1.56563193, -0.87815013, -0.13124193,\n",
    "         0.15046322,  0.80270428,  0.10067323,  1.18402746,  2.2656229 ,\n",
    "         1.8286758 ]))"
   ]
  },
  {
   "cell_type": "code",
   "execution_count": 308,
   "metadata": {},
   "outputs": [
    {
     "data": {
      "text/plain": [
       "(13774.804821051719, 591.9147586571169, 23.271602235941476)"
      ]
     },
     "execution_count": 308,
     "metadata": {},
     "output_type": "execute_result"
    }
   ],
   "source": [
    "#this is shift from all +1.95\n",
    "Tom.shift( np.array([-1.44230769,  0.57648649, -2.70974359,  0.7916129 , -1.12439367,\n",
    "         0.41892562,  1.79848382,  1.46563193, -1.17815013, -0.23124193,\n",
    "        -0.04953678,  0.80270428, -0.19932677,  1.08402746,  2.1656229 ,\n",
    "         1.8286758 ]))"
   ]
  },
  {
   "cell_type": "code",
   "execution_count": 279,
   "metadata": {},
   "outputs": [
    {
     "data": {
      "image/png": "[encoded data removed]",
      "text/plain": [
       "<Figure size 1008x1008 with 16 Axes>"
      ]
     },
     "metadata": {
      "needs_background": "light"
     },
     "output_type": "display_data"
    }
   ],
   "source": [
    "Tom.plot_all()"
   ]
  },
  {
   "cell_type": "code",
   "execution_count": 217,
   "metadata": {},
   "outputs": [
    {
     "data": {
      "text/plain": [
       "array([0.25619835, 0.25619835, 0.25619835, 0.25619835, 0.25619835])"
      ]
     },
     "execution_count": 217,
     "metadata": {},
     "output_type": "execute_result"
    }
   ],
   "source": [
    "Pred_by_rank[6,:,2]"
   ]
  },
  {
   "cell_type": "code",
   "execution_count": 200,
   "metadata": {},
   "outputs": [
    {
     "data": {
      "text/plain": [
       "array([2.36363636, 4.53061224, 2.30163934, 4.61157025, 1.80158311,\n",
       "       2.97135061, 2.26786864, 3.03476636, 2.26594668, 4.50279607,\n",
       "       2.25537726, 4.51647547, 1.79616582, 2.97616345, 2.31028522,\n",
       "       3.09419152])"
      ]
     },
     "execution_count": 200,
     "metadata": {},
     "output_type": "execute_result"
    }
   ],
   "source": [
    "Tom.dol"
   ]
  },
  {
   "cell_type": "markdown",
   "metadata": {},
   "source": [
    "479-"
   ]
  },
  {
   "cell_type": "code",
   "execution_count": 321,
   "metadata": {},
   "outputs": [
    {
     "data": {
      "text/plain": [
       "137"
      ]
     },
     "execution_count": 321,
     "metadata": {},
     "output_type": "execute_result"
    }
   ],
   "source": [
    "616-479"
   ]
  },
  {
   "cell_type": "code",
   "execution_count": null,
   "metadata": {},
   "outputs": [],
   "source": []
  },
  {
   "cell_type": "code",
   "execution_count": null,
   "metadata": {},
   "outputs": [],
   "source": []
  },
  {
   "cell_type": "code",
   "execution_count": 191,
   "metadata": {},
   "outputs": [],
   "source": [
    "Pred_by_rank=np.array([[[2.93286219e-01, 5.13250883e-01, 5.71428571e-01, 7.00000000e+00,\n",
    "         3.90000000e+01],\n",
    "        [1.05952381e-01, 1.85416667e-01, 5.71428571e-01, 1.00000000e+01,\n",
    "         3.90000000e+01],\n",
    "        [8.67553499e-02, 1.51821862e-01, 5.71428571e-01, 1.00000000e+01,\n",
    "         3.90000000e+01],\n",
    "        [2.35446465e-02, 4.12031314e-02, 5.71428571e-01, 1.20000000e+01,\n",
    "         3.90000000e+01],\n",
    "        [1.15143647e-02, 2.01501383e-02, 5.71428571e-01, 0.00000000e+00,\n",
    "         3.90000000e+01]],\n",
    "\n",
    "       [[1.71083628e-01, 5.13250883e-01, 3.33333333e-01, 0.00000000e+00,\n",
    "         1.02000000e+02],\n",
    "        [6.18055556e-02, 1.85416667e-01, 3.33333333e-01, 0.00000000e+00,\n",
    "         1.02000000e+02],\n",
    "        [5.06072874e-02, 1.51821862e-01, 3.33333333e-01, 2.10000000e+01,\n",
    "         1.02000000e+02],\n",
    "        [1.37343771e-02, 4.12031314e-02, 3.33333333e-01, 3.30000000e+01,\n",
    "         1.02000000e+02],\n",
    "        [6.71671276e-03, 2.01501383e-02, 3.33333333e-01, 5.70000000e+01,\n",
    "         1.02000000e+02]],\n",
    "\n",
    "       [[3.59275618e-01, 5.13250883e-01, 7.00000000e-01, 1.10000000e+01,\n",
    "         3.90000000e+01],\n",
    "        [1.29791667e-01, 1.85416667e-01, 7.00000000e-01, 8.00000000e+00,\n",
    "         3.90000000e+01],\n",
    "        [1.06275304e-01, 1.51821862e-01, 7.00000000e-01, 6.00000000e+00,\n",
    "         3.90000000e+01],\n",
    "        [2.88421920e-02, 4.12031314e-02, 7.00000000e-01, 1.40000000e+01,\n",
    "         3.90000000e+01],\n",
    "        [1.41050968e-02, 2.01501383e-02, 7.00000000e-01, 0.00000000e+00,\n",
    "         3.90000000e+01]],\n",
    "\n",
    "       [[1.46643110e-01, 5.13250883e-01, 2.85714286e-01, 0.00000000e+00,\n",
    "         1.02000000e+02],\n",
    "        [5.29761905e-02, 1.85416667e-01, 2.85714286e-01, 0.00000000e+00,\n",
    "         1.02000000e+02],\n",
    "        [4.33776750e-02, 1.51821862e-01, 2.85714286e-01, 1.70000000e+01,\n",
    "         1.02000000e+02],\n",
    "        [1.17723233e-02, 4.12031314e-02, 2.85714286e-01, 2.50000000e+01,\n",
    "         1.02000000e+02],\n",
    "        [5.75718237e-03, 2.01501383e-02, 2.85714286e-01, 5.10000000e+01,\n",
    "         1.02000000e+02]],\n",
    "\n",
    "       [[2.65474595e-01, 5.13250883e-01, 5.17241379e-01, 2.82000000e+02,\n",
    "         5.89750000e+02],\n",
    "        [9.59051724e-02, 1.85416667e-01, 5.17241379e-01, 1.74000000e+02,\n",
    "         5.89750000e+02],\n",
    "        [7.85285495e-02, 1.51821862e-01, 5.17241379e-01, 1.13000000e+02,\n",
    "         5.89750000e+02],\n",
    "        [2.13119645e-02, 4.12031314e-02, 5.17241379e-01, 0.00000000e+00,\n",
    "         5.89750000e+02],\n",
    "        [1.04224853e-02, 2.01501383e-02, 5.17241379e-01, 0.00000000e+00,\n",
    "         5.89750000e+02]],\n",
    "\n",
    "       [[1.95524146e-01, 5.13250883e-01, 3.80952381e-01, 0.00000000e+00,\n",
    "         4.52500000e+02],\n",
    "        [7.06349206e-02, 1.85416667e-01, 3.80952381e-01, 9.70000000e+01,\n",
    "         4.52500000e+02],\n",
    "        [5.78368999e-02, 1.51821862e-01, 3.80952381e-01, 1.60000000e+02,\n",
    "         4.52500000e+02],\n",
    "        [1.56964310e-02, 4.12031314e-02, 3.80952381e-01, 1.29000000e+02,\n",
    "         4.52500000e+02],\n",
    "        [7.67624316e-03, 2.01501383e-02, 3.80952381e-01, 9.80000000e+01,\n",
    "         4.52500000e+02]],\n",
    "\n",
    "       [[1.31494028e-01, 5.13250883e-01, 2.56198347e-01, 1.07000000e+02,\n",
    "         5.89750000e+02],\n",
    "        [4.75034435e-02, 1.85416667e-01, 2.56198347e-01, 1.79000000e+02,\n",
    "         5.89750000e+02],\n",
    "        [3.88965102e-02, 1.51821862e-01, 2.56198347e-01, 1.83000000e+02,\n",
    "         5.89750000e+02],\n",
    "        [1.05561742e-02, 4.12031314e-02, 2.56198347e-01, 1.18000000e+02,\n",
    "         5.89750000e+02],\n",
    "        [5.16243212e-03, 2.01501383e-02, 2.56198347e-01, 0.00000000e+00,\n",
    "         5.89750000e+02]],\n",
    "\n",
    "       [[1.21559420e-01, 5.13250883e-01, 2.36842105e-01, 0.00000000e+00,\n",
    "         4.52500000e+02],\n",
    "        [4.39144737e-02, 1.85416667e-01, 2.36842105e-01, 8.70000000e+01,\n",
    "         4.52500000e+02],\n",
    "        [3.59578095e-02, 1.51821862e-01, 2.36842105e-01, 1.32000000e+02,\n",
    "         4.52500000e+02],\n",
    "        [9.75863639e-03, 4.12031314e-02, 2.36842105e-01, 1.36000000e+02,\n",
    "         4.52500000e+02],\n",
    "        [4.77240117e-03, 2.01501383e-02, 2.36842105e-01, 9.60000000e+01,\n",
    "         4.52500000e+02]],\n",
    "\n",
    "       [[2.77092501e-01, 5.13250883e-01, 5.39877301e-01, 1.57000000e+02,\n",
    "         7.40000000e+02],\n",
    "        [1.00102249e-01, 1.85416667e-01, 5.39877301e-01, 1.95000000e+02,\n",
    "         7.40000000e+02],\n",
    "        [8.19651772e-02, 1.51821862e-01, 5.39877301e-01, 2.37000000e+02,\n",
    "         7.40000000e+02],\n",
    "        [2.22446354e-02, 4.12031314e-02, 5.39877301e-01, 1.57000000e+02,\n",
    "         7.40000000e+02],\n",
    "        [1.08786023e-02, 2.01501383e-02, 5.39877301e-01, 0.00000000e+00,\n",
    "         7.40000000e+02]],\n",
    "\n",
    "       [[2.44633599e-01, 5.13250883e-01, 4.76635514e-01, 0.00000000e+00,\n",
    "         2.03450000e+03],\n",
    "        [8.83761682e-02, 1.85416667e-01, 4.76635514e-01, 0.00000000e+00,\n",
    "         2.03450000e+03],\n",
    "        [7.23636914e-02, 1.51821862e-01, 4.76635514e-01, 3.70000000e+02,\n",
    "         2.03450000e+03],\n",
    "        [1.96388757e-02, 4.12031314e-02, 4.76635514e-01, 6.34000000e+02,\n",
    "         2.03450000e+03],\n",
    "        [9.60427152e-03, 2.01501383e-02, 4.76635514e-01, 1.00900000e+03,\n",
    "         2.03450000e+03]],\n",
    "\n",
    "       [[2.23456167e-01, 5.13250883e-01, 4.35374150e-01, 1.54000000e+02,\n",
    "         7.40000000e+02],\n",
    "        [8.07256236e-02, 1.85416667e-01, 4.35374150e-01, 2.04000000e+02,\n",
    "         7.40000000e+02],\n",
    "        [6.60993142e-02, 1.51821862e-01, 4.35374150e-01, 2.24000000e+02,\n",
    "         7.40000000e+02],\n",
    "        [1.79387783e-02, 4.12031314e-02, 4.35374150e-01, 1.52000000e+02,\n",
    "         7.40000000e+02],\n",
    "        [8.77284932e-03, 2.01501383e-02, 4.35374150e-01, 0.00000000e+00,\n",
    "         7.40000000e+02]],\n",
    "\n",
    "       [[1.47964219e-01, 5.13250883e-01, 2.88288288e-01, 0.00000000e+00,\n",
    "         2.03450000e+03],\n",
    "        [5.34534535e-02, 1.85416667e-01, 2.88288288e-01, 0.00000000e+00,\n",
    "         2.03450000e+03],\n",
    "        [4.37684648e-02, 1.51821862e-01, 2.88288288e-01, 4.05000000e+02,\n",
    "         2.03450000e+03],\n",
    "        [1.18783802e-02, 4.12031314e-02, 2.88288288e-01, 6.08000000e+02,\n",
    "         2.03450000e+03],\n",
    "        [5.80904888e-03, 2.01501383e-02, 2.88288288e-01, 1.04300000e+03,\n",
    "         2.03450000e+03]],\n",
    "\n",
    "       [[2.26910917e-01, 5.13250883e-01, 4.42105263e-01, 3.11000000e+02,\n",
    "         5.89750000e+02],\n",
    "        [8.19736842e-02, 1.85416667e-01, 4.42105263e-01, 1.61000000e+02,\n",
    "         5.89750000e+02],\n",
    "        [6.71212444e-02, 1.51821862e-01, 4.42105263e-01, 1.37000000e+02,\n",
    "         5.89750000e+02],\n",
    "        [1.82161213e-02, 4.12031314e-02, 4.42105263e-01, 0.00000000e+00,\n",
    "         5.89750000e+02],\n",
    "        [8.90848219e-03, 2.01501383e-02, 4.42105263e-01, 0.00000000e+00,\n",
    "         5.89750000e+02]],\n",
    "\n",
    "       [[1.50219771e-01, 5.13250883e-01, 2.92682927e-01, 0.00000000e+00,\n",
    "         4.52500000e+02],\n",
    "        [5.42682927e-02, 1.85416667e-01, 2.92682927e-01, 9.30000000e+01,\n",
    "         4.52500000e+02],\n",
    "        [4.44356670e-02, 1.51821862e-01, 2.92682927e-01, 1.30000000e+02,\n",
    "         4.52500000e+02],\n",
    "        [1.20594531e-02, 4.12031314e-02, 2.92682927e-01, 1.27000000e+02,\n",
    "         4.52500000e+02],\n",
    "        [5.89760145e-03, 2.01501383e-02, 2.92682927e-01, 8.70000000e+01,\n",
    "         4.52500000e+02]],\n",
    "\n",
    "       [[1.10253893e-01, 5.13250883e-01, 2.14814815e-01, 1.03000000e+02,\n",
    "         5.89750000e+02],\n",
    "        [3.98302469e-02, 1.85416667e-01, 2.14814815e-01, 1.63000000e+02,\n",
    "         5.89750000e+02],\n",
    "        [3.26135852e-02, 1.51821862e-01, 2.14814815e-01, 1.94000000e+02,\n",
    "         5.89750000e+02],\n",
    "        [8.85104305e-03, 4.12031314e-02, 2.14814815e-01, 1.34000000e+02,\n",
    "         5.89750000e+02],\n",
    "        [4.32854822e-03, 2.01501383e-02, 2.14814815e-01, 0.00000000e+00,\n",
    "         5.89750000e+02]],\n",
    "\n",
    "       [[1.00418651e-01, 5.13250883e-01, 1.95652174e-01, 0.00000000e+00,\n",
    "         4.52500000e+02],\n",
    "        [3.62771739e-02, 1.85416667e-01, 1.95652174e-01, 6.90000000e+01,\n",
    "         4.52500000e+02],\n",
    "        [2.97042774e-02, 1.51821862e-01, 1.95652174e-01, 1.31000000e+02,\n",
    "         4.52500000e+02],\n",
    "        [8.06148224e-03, 4.12031314e-02, 1.95652174e-01, 1.48000000e+02,\n",
    "         4.52500000e+02],\n",
    "        [3.94241836e-03, 2.01501383e-02, 1.95652174e-01, 9.00000000e+01,\n",
    "         4.52500000e+02]]])"
   ]
  },
  {
   "cell_type": "code",
   "execution_count": null,
   "metadata": {},
   "outputs": [],
   "source": []
  }
 ],
 "metadata": {
  "kernelspec": {
   "display_name": "Python 3",
   "language": "python",
   "name": "python3"
  },
  "language_info": {
   "codemirror_mode": {
    "name": "ipython",
    "version": 3
   },
   "file_extension": ".py",
   "mimetype": "text/x-python",
   "name": "python",
   "nbconvert_exporter": "python",
   "pygments_lexer": "ipython3",
   "version": "3.7.3"
  }
 },
 "nbformat": 4,
 "nbformat_minor": 2
}
