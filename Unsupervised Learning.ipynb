{
 "cells": [
  {
   "cell_type": "code",
   "execution_count": 85,
   "metadata": {},
   "outputs": [
    {
     "name": "stderr",
     "output_type": "stream",
     "text": [
      "c:\\python3\\lib\\site-packages\\pandas\\core\\indexing.py:966: SettingWithCopyWarning: \n",
      "A value is trying to be set on a copy of a slice from a DataFrame.\n",
      "Try using .loc[row_indexer,col_indexer] = value instead\n",
      "\n",
      "See the caveats in the documentation: https://pandas.pydata.org/pandas-docs/stable/user_guide/indexing.html#returning-a-view-versus-a-copy\n",
      "  self.obj[item] = s\n"
     ]
    },
    {
     "data": {
      "text/html": [
       "<div>\n",
       "<style scoped>\n",
       "    .dataframe tbody tr th:only-of-type {\n",
       "        vertical-align: middle;\n",
       "    }\n",
       "\n",
       "    .dataframe tbody tr th {\n",
       "        vertical-align: top;\n",
       "    }\n",
       "\n",
       "    .dataframe thead th {\n",
       "        text-align: right;\n",
       "    }\n",
       "</style>\n",
       "<table border=\"1\" class=\"dataframe\">\n",
       "  <thead>\n",
       "    <tr style=\"text-align: right;\">\n",
       "      <th></th>\n",
       "      <th>impression_id</th>\n",
       "      <th>click</th>\n",
       "      <th>cost</th>\n",
       "      <th>currently_insured</th>\n",
       "      <th>number_of_vehicles</th>\n",
       "      <th>number_of_drivers</th>\n",
       "      <th>marital_status</th>\n",
       "      <th>rank</th>\n",
       "      <th>policies sold</th>\n",
       "    </tr>\n",
       "  </thead>\n",
       "  <tbody>\n",
       "    <tr>\n",
       "      <th>0</th>\n",
       "      <td>1</td>\n",
       "      <td>1</td>\n",
       "      <td>10</td>\n",
       "      <td>N</td>\n",
       "      <td>1</td>\n",
       "      <td>1</td>\n",
       "      <td>M</td>\n",
       "      <td>1</td>\n",
       "      <td>1</td>\n",
       "    </tr>\n",
       "    <tr>\n",
       "      <th>1</th>\n",
       "      <td>2</td>\n",
       "      <td>0</td>\n",
       "      <td>10</td>\n",
       "      <td>N</td>\n",
       "      <td>2</td>\n",
       "      <td>1</td>\n",
       "      <td>M</td>\n",
       "      <td>4</td>\n",
       "      <td>0</td>\n",
       "    </tr>\n",
       "    <tr>\n",
       "      <th>2</th>\n",
       "      <td>3</td>\n",
       "      <td>0</td>\n",
       "      <td>10</td>\n",
       "      <td>N</td>\n",
       "      <td>1</td>\n",
       "      <td>1</td>\n",
       "      <td>S</td>\n",
       "      <td>2</td>\n",
       "      <td>0</td>\n",
       "    </tr>\n",
       "    <tr>\n",
       "      <th>3</th>\n",
       "      <td>4</td>\n",
       "      <td>0</td>\n",
       "      <td>10</td>\n",
       "      <td>Y</td>\n",
       "      <td>2</td>\n",
       "      <td>1</td>\n",
       "      <td>M</td>\n",
       "      <td>5</td>\n",
       "      <td>0</td>\n",
       "    </tr>\n",
       "    <tr>\n",
       "      <th>4</th>\n",
       "      <td>5</td>\n",
       "      <td>0</td>\n",
       "      <td>10</td>\n",
       "      <td>Y</td>\n",
       "      <td>2</td>\n",
       "      <td>2</td>\n",
       "      <td>S</td>\n",
       "      <td>4</td>\n",
       "      <td>0</td>\n",
       "    </tr>\n",
       "  </tbody>\n",
       "</table>\n",
       "</div>"
      ],
      "text/plain": [
       "   impression_id  click  cost currently_insured  number_of_vehicles  \\\n",
       "0              1      1    10                 N                   1   \n",
       "1              2      0    10                 N                   2   \n",
       "2              3      0    10                 N                   1   \n",
       "3              4      0    10                 Y                   2   \n",
       "4              5      0    10                 Y                   2   \n",
       "\n",
       "   number_of_drivers marital_status  rank  policies sold  \n",
       "0                  1              M     1              1  \n",
       "1                  1              M     4              0  \n",
       "2                  1              S     2              0  \n",
       "3                  1              M     5              0  \n",
       "4                  2              S     4              0  "
      ]
     },
     "execution_count": 85,
     "metadata": {},
     "output_type": "execute_result"
    }
   ],
   "source": [
    "# Stuff used previously:\n",
    "\n",
    "import pandas as pd\n",
    "import numpy as np\n",
    "from numpy import meshgrid\n",
    "\n",
    "## For plotting\n",
    "import matplotlib.pyplot as plt\n",
    "import seaborn as sns\n",
    "\n",
    "dfs = pd.read_excel(\"Acme.xlsx\")\n",
    "\n",
    "dfs_copy = dfs.copy()\n",
    "\n",
    "\n",
    "from sklearn import metrics\n",
    "from sklearn.svm import SVC\n",
    "from sklearn.ensemble import RandomForestClassifier\n",
    "from sklearn.discriminant_analysis import LinearDiscriminantAnalysis\n",
    "from sklearn.neighbors import KNeighborsClassifier\n",
    "from sklearn.ensemble import VotingClassifier\n",
    "from sklearn.ensemble import BaggingClassifier\n",
    "from sklearn.ensemble import AdaBoostClassifier\n",
    "from sklearn.neural_network import MLPClassifier\n",
    "\n",
    "from sklearn.model_selection import train_test_split\n",
    "from sklearn.base import clone\n",
    "from sklearn.model_selection import StratifiedKFold\n",
    "from imblearn.over_sampling import SMOTE\n",
    "oversample = SMOTE()\n",
    "\n",
    "\n",
    "X = dfs_copy[['currently_insured', 'number_of_vehicles', 'number_of_drivers', 'marital_status','rank']]\n",
    "y = dfs_copy['policies sold']\n",
    "X.loc[X.currently_insured == \"Y\",'currently_insured'] = 1\n",
    "X.loc[X.currently_insured == \"N\",'currently_insured'] = 0\n",
    "X.loc[X.marital_status == \"M\",'marital_status'] = 1\n",
    "X.loc[X.marital_status == \"S\",'marital_status'] = 0\n",
    "# First we try clustering:\n",
    "\n",
    "from scipy.cluster.hierarchy import dendrogram, linkage, fcluster\n",
    "from sklearn.cluster import KMeans\n",
    "dfs_copy.head()"
   ]
  },
  {
   "cell_type": "code",
   "execution_count": 86,
   "metadata": {},
   "outputs": [],
   "source": [
    "Z = linkage(X, 'centroid')\n",
    "\n",
    "clustersh = fcluster(Z, t=2, criterion='maxclust')\n"
   ]
  },
  {
   "cell_type": "code",
   "execution_count": 59,
   "metadata": {},
   "outputs": [
    {
     "data": {
      "image/png": "[encoded data removed]",
      "text/plain": [
       "<Figure size 432x288 with 1 Axes>"
      ]
     },
     "metadata": {
      "needs_background": "light"
     },
     "output_type": "display_data"
    }
   ],
   "source": [
    "dendrogram(Z)\n",
    "\n",
    "plt.show()"
   ]
  },
  {
   "cell_type": "code",
   "execution_count": 87,
   "metadata": {},
   "outputs": [
    {
     "data": {
      "text/plain": [
       "array([1, 2, 1, ..., 2, 2, 1], dtype=int32)"
      ]
     },
     "execution_count": 87,
     "metadata": {},
     "output_type": "execute_result"
    }
   ],
   "source": [
    "clustersh"
   ]
  },
  {
   "cell_type": "code",
   "execution_count": 88,
   "metadata": {},
   "outputs": [],
   "source": [
    "kmeans = KMeans(2)                   # 2 for the number of policies sold\n",
    "\n",
    "kmeans.fit(X)\n",
    "clusters = kmeans.predict(X)"
   ]
  },
  {
   "cell_type": "code",
   "execution_count": 89,
   "metadata": {},
   "outputs": [
    {
     "data": {
      "text/plain": [
       "array([0, 1, 0, ..., 1, 1, 0])"
      ]
     },
     "execution_count": 89,
     "metadata": {},
     "output_type": "execute_result"
    }
   ],
   "source": [
    "clusters"
   ]
  },
  {
   "cell_type": "code",
   "execution_count": 67,
   "metadata": {},
   "outputs": [
    {
     "name": "stdout",
     "output_type": "stream",
     "text": [
      "5381\n",
      "7609\n",
      "4619\n",
      "2391\n"
     ]
    }
   ],
   "source": [
    "count = 0\n",
    "for i in range(10000):\n",
    "    if clusters[i] != dfs_copy.loc[i, 'policies sold']:\n",
    "        count = count + 1\n",
    "    \n",
    "count1 = 0\n",
    "for i in range(10000):\n",
    "    if clustersh[i] - 1 != dfs_copy.loc[i, 'policies sold']:\n",
    "        count1 = count1 + 1\n",
    "    \n",
    "print(count)    # 5381\n",
    "print(count1)   # 7609\n",
    "\n",
    "# this don't necessarily measure anything since cluster[i] or clusterh[i] \n",
    "# could be any policies sold, not just policies sold of index i.\n",
    "# So we check if clusters[i] and clustersh[i] are the same as dfs_copy[i,'policies sold'] in any modulo class\n",
    "# \n",
    "\n",
    "\n",
    "count = 0\n",
    "for i in range(10000):\n",
    "    if clusters[i] != (dfs_copy.loc[i, 'policies sold']+1)%2:\n",
    "        count = count + 1\n",
    "    \n",
    "count1 = 0\n",
    "for i in range(10000):\n",
    "    if clustersh[i] - 1 != (dfs_copy.loc[i, 'policies sold']+1)%2:\n",
    "        count1 = count1 + 1\n",
    "    \n",
    "print(count)    # 4619\n",
    "print(count1)   # 2391\n",
    "\n",
    "# This one above seems to do best, so policies sold = clusters(h) + 1 (mod 2).\n"
   ]
  },
  {
   "cell_type": "code",
   "execution_count": null,
   "metadata": {},
   "outputs": [],
   "source": [
    "# accuracy for kmeans (k = 2) = (10000 - 4619)/10000 = 5381/10000 = .5381 or 53.81%\n",
    "# accuracy for hierarchical clustering = (10000 - 2391)/10000 = .7609 = 76.09%\n",
    "\n",
    "# Accuracy for either clustering method on y = rank (X = usual 4 variables) was too poor to consider here."
   ]
  },
  {
   "cell_type": "code",
   "execution_count": null,
   "metadata": {},
   "outputs": [],
   "source": [
    "\n"
   ]
  },
  {
   "cell_type": "code",
   "execution_count": null,
   "metadata": {},
   "outputs": [],
   "source": [
    "\n",
    "\n",
    "\n"
   ]
  },
  {
   "cell_type": "code",
   "execution_count": null,
   "metadata": {},
   "outputs": [],
   "source": []
  },
  {
   "cell_type": "code",
   "execution_count": 90,
   "metadata": {},
   "outputs": [
    {
     "name": "stderr",
     "output_type": "stream",
     "text": [
      "c:\\python3\\lib\\site-packages\\pandas\\core\\indexing.py:966: SettingWithCopyWarning: \n",
      "A value is trying to be set on a copy of a slice from a DataFrame.\n",
      "Try using .loc[row_indexer,col_indexer] = value instead\n",
      "\n",
      "See the caveats in the documentation: https://pandas.pydata.org/pandas-docs/stable/user_guide/indexing.html#returning-a-view-versus-a-copy\n",
      "  self.obj[item] = s\n"
     ]
    }
   ],
   "source": [
    "# Now we'll try PCA\n",
    "from sklearn.decomposition import PCA\n",
    "from sklearn.pipeline import Pipeline\n",
    "from sklearn.preprocessing import StandardScaler\n",
    "\n",
    "# 'click'? Don't include this.\n",
    "X = dfs_copy[['currently_insured', 'number_of_vehicles', 'number_of_drivers', 'marital_status','rank']]\n",
    "y = dfs_copy['policies sold']\n",
    "X.loc[X.currently_insured == \"Y\",'currently_insured'] = 1\n",
    "X.loc[X.currently_insured == \"N\",'currently_insured'] = 0\n",
    "X.loc[X.marital_status == \"M\",'marital_status'] = 1\n",
    "X.loc[X.marital_status == \"S\",'marital_status'] = 0\n",
    "\n",
    "X_train,X_test,y_train,y_test = train_test_split(X,y,test_size = .25,random_state = 614,shuffle = True,stratify = y)\n",
    "\n",
    "# At the moment, X is 6-dimensional. \n",
    "# we'll project down to 2-D ???\n",
    "#pca = PCA(n_components = 2)\n",
    "\n",
    "pca_pipe = Pipeline([('scaler',StandardScaler()),\n",
    "                ('pca',PCA(n_components=2))])\n",
    "\n",
    "# Fit the data\n",
    "#X_pca = pca.fit_transform(X_train)\n",
    "X_pca = pca_pipe.fit_transform(X_train)\n"
   ]
  },
  {
   "cell_type": "code",
   "execution_count": 91,
   "metadata": {},
   "outputs": [
    {
     "data": {
      "image/png": "[encoded data removed]",
      "text/plain": [
       "<Figure size 576x576 with 1 Axes>"
      ]
     },
     "metadata": {
      "needs_background": "light"
     },
     "output_type": "display_data"
    }
   ],
   "source": [
    "plt.figure(figsize = (8,8))\n",
    "\n",
    "plt.scatter(X_pca[y_train==0,0],X_pca[y_train==0,1],c='blue',label='not sold')\n",
    "plt.scatter(X_pca[y_train==1,0],X_pca[y_train==1,1],c='red',label='sold')\n",
    "\n",
    "plt.legend(fontsize=14)\n",
    "plt.title(\"Policies sold vs pca 1 & 2\",fontsize=16)\n",
    "plt.xlabel(\"pca 1\",fontsize=16)\n",
    "plt.ylabel(\"pca 2\",fontsize=16)\n",
    "\n",
    "plt.show()"
   ]
  },
  {
   "cell_type": "code",
   "execution_count": 92,
   "metadata": {},
   "outputs": [],
   "source": [
    "\n",
    "pca_pipe = Pipeline([('scaler',StandardScaler()),\n",
    "                ('pca',PCA(n_components=5))])\n",
    "\n",
    "\n",
    "X_pca = pca_pipe.fit_transform(X_train)\n"
   ]
  },
  {
   "cell_type": "code",
   "execution_count": 93,
   "metadata": {},
   "outputs": [
    {
     "data": {
      "image/png": "[encoded data removed]",
      "text/plain": [
       "<Figure size 720x576 with 1 Axes>"
      ]
     },
     "metadata": {
      "needs_background": "light"
     },
     "output_type": "display_data"
    }
   ],
   "source": [
    "plt.figure(figsize=(10,8))\n",
    "\n",
    "plt.plot(range(1,6),\n",
    "        np.cumsum(pca_pipe.named_steps['pca'].explained_variance_ratio_))\n",
    "\n",
    "plt.xlabel(\"PCA Component\", fontsize=16)\n",
    "plt.ylabel(\"Cumulative Variance Explained\", fontsize=16)\n",
    "\n",
    "plt.show()\n"
   ]
  },
  {
   "cell_type": "code",
   "execution_count": 94,
   "metadata": {},
   "outputs": [
    {
     "data": {
      "text/plain": [
       "(7500, 2)"
      ]
     },
     "execution_count": 94,
     "metadata": {},
     "output_type": "execute_result"
    }
   ],
   "source": [
    "# Not much of an apparent bump in this graph, maybe at components = 4, but it's not as pronounced as usual.\n",
    "\n",
    "pca_pipe2 = Pipeline([('scaler',StandardScaler()),\n",
    "                ('pca',PCA(n_components=0.582))])\n",
    "\n",
    "# 2 components explains up to 58.2% of variance\n",
    "\n",
    "X_pca2 = pca_pipe2.fit_transform(X_train)\n",
    "np.shape(X_pca2)"
   ]
  },
  {
   "cell_type": "code",
   "execution_count": null,
   "metadata": {},
   "outputs": [],
   "source": []
  }
 ],
 "metadata": {
  "kernelspec": {
   "display_name": "Python 3",
   "language": "python",
   "name": "python3"
  },
  "language_info": {
   "codemirror_mode": {
    "name": "ipython",
    "version": 3
   },
   "file_extension": ".py",
   "mimetype": "text/x-python",
   "name": "python",
   "nbconvert_exporter": "python",
   "pygments_lexer": "ipython3",
   "version": "3.6.8"
  }
 },
 "nbformat": 4,
 "nbformat_minor": 4
}
